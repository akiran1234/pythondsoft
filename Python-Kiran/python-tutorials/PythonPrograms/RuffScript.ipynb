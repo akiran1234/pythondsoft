{
 "cells": [
  {
   "cell_type": "code",
   "execution_count": null,
   "metadata": {},
   "outputs": [],
   "source": [
    "import re\n",
    "import sys\n",
    "\n",
    "import matplotlib.pyplot\n",
    "x=\"hello this is stringhello hello iam hello\"\n",
    "y=x\n",
    "\n",
    "words=re.findall('hell',x)  # to find\n",
    "print(words)\n",
    "\n",
    "mat=re.compile('hello')     # to find and replace\n",
    "y=mat.sub('bolo',y)\n",
    "print(y)\n",
    "\n",
    "print(sys.implementation)"
   ]
  }
 ],
 "metadata": {
  "language": "python"
 },
 "nbformat": 4,
 "nbformat_minor": 2
}
